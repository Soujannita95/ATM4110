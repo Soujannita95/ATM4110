{
 "cells": [
  {
   "cell_type": "markdown",
   "metadata": {},
   "source": [
    "# Draw lines using the data\n",
    "In this example, we will plot the time series of air temperature using the dataset from [HadCRUT4](https://crudata.uea.ac.uk/cru/data/temperature/)"
   ]
  },
  {
   "cell_type": "code",
   "execution_count": 8,
   "metadata": {
    "collapsed": true
   },
   "outputs": [],
   "source": [
    "import numpy as np\n",
    "import matplotlib.pyplot as plt\n",
    "from netCDF4 import Dataset, num2date\n",
    "%matplotlib qt                \n",
    "# Figures in a separate window\n",
    "# %matplotlib inline          # Figures in this browser"
   ]
  },
  {
   "cell_type": "markdown",
   "metadata": {},
   "source": [
    "### Read the temperature data\n",
    "We are going to read two datasets: one for the mean temperature (absolute.nc) and the other one for the time series of temperature anomaly (HadCRUT.4.6.0.0.median.nc)."
   ]
  },
  {
   "cell_type": "code",
   "execution_count": null,
   "metadata": {
    "collapsed": true
   },
   "outputs": [],
   "source": [
    "f = Dataset('absolute.nc', 'r')\n",
    "print(f.variables.keys())\n",
    "T = f.variables['tem'][:]    # monthly data\n",
    "lon = f.variables['lon'][:]\n",
    "lat = f.variables['lat'][:]\n",
    "f.close()"
   ]
  },
  {
   "cell_type": "code",
   "execution_count": 36,
   "metadata": {},
   "outputs": [
    {
     "name": "stdout",
     "output_type": "stream",
     "text": [
      "odict_keys(['latitude', 'longitude', 'time', 'temperature_anomaly', 'field_status'])\n"
     ]
    }
   ],
   "source": [
    "f = Dataset('HadCRUT.4.6.0.0.median.nc', 'r')\n",
    "print(f.variables.keys())\n",
    "Tanom = f.variables['temperature_anomaly'][:]\n",
    "time = f.variables['time'][:]\n",
    "lon = f.variables['longitude'][:]\n",
    "lat = f.variables['latitude'][:]\n",
    "# print(f.variables['time'])\n",
    "f.close()"
   ]
  },
  {
   "cell_type": "code",
   "execution_count": 3,
   "metadata": {},
   "outputs": [
    {
     "data": {
      "text/plain": [
       "(2025, 36, 72)"
      ]
     },
     "execution_count": 3,
     "metadata": {},
     "output_type": "execute_result"
    }
   ],
   "source": [
    "Tanom.shape"
   ]
  },
  {
   "cell_type": "markdown",
   "metadata": {},
   "source": [
    "### The trend of the global temperature.\n",
    "First we want to see the time change of the global temperature anomaly.  \n",
    "Let's compute the global mean of temperature anomaly."
   ]
  },
  {
   "cell_type": "code",
   "execution_count": 4,
   "metadata": {
    "collapsed": true
   },
   "outputs": [],
   "source": [
    "[nt, ny, nx] = Tanom.shape    # Dimension size\n",
    "mTanom = np.mean(np.mean(Tanom, axis=2), axis=1)"
   ]
  },
  {
   "cell_type": "code",
   "execution_count": 5,
   "metadata": {},
   "outputs": [
    {
     "data": {
      "text/plain": [
       "(2025,)"
      ]
     },
     "execution_count": 5,
     "metadata": {},
     "output_type": "execute_result"
    }
   ],
   "source": [
    "mTanom.shape"
   ]
  },
  {
   "cell_type": "code",
   "execution_count": 17,
   "metadata": {},
   "outputs": [
    {
     "data": {
      "text/plain": [
       "[<matplotlib.lines.Line2D at 0x120bd2630>]"
      ]
     },
     "execution_count": 17,
     "metadata": {},
     "output_type": "execute_result"
    }
   ],
   "source": [
    "f = plt.figure(1)             # Number is assigned to the window\n",
    "plt.plot(time, mTanom)"
   ]
  },
  {
   "cell_type": "markdown",
   "metadata": {},
   "source": [
    "The plot shows the increasing trend of the global mean temperature.  \n",
    "But, the time axis is not easy to interpret, maybe because it is in the unit of second?  \n",
    "Let's check."
   ]
  },
  {
   "cell_type": "code",
   "execution_count": 18,
   "metadata": {},
   "outputs": [
    {
     "name": "stdout",
     "output_type": "stream",
     "text": [
      "days since 1850-1-1 00:00:00 gregorian\n"
     ]
    }
   ],
   "source": [
    "f = Dataset('HadCRUT.4.6.0.0.median.nc', 'r')\n",
    "Tunit = f.variables['time'].units\n",
    "Tcalendar = f.variables['time'].calendar\n",
    "print(Tunit, Tcalendar)\n",
    "f.close()"
   ]
  },
  {
   "cell_type": "markdown",
   "metadata": {},
   "source": [
    "If we convert the unit from days to years, that makes the plot easier to read.  \n",
    "This means that we need to either change the unit or touch the x-axis."
   ]
  },
  {
   "cell_type": "markdown",
   "metadata": {},
   "source": [
    "#### 1. Change the time unit\n",
    "The module ```netCDF4``` provides a handy function called ```num2date```. Using this function, the float numbers for time become a new type called ```datetime```."
   ]
  },
  {
   "cell_type": "code",
   "execution_count": 19,
   "metadata": {
    "collapsed": true
   },
   "outputs": [],
   "source": [
    "num2date?"
   ]
  },
  {
   "cell_type": "code",
   "execution_count": 20,
   "metadata": {
    "collapsed": true
   },
   "outputs": [],
   "source": [
    "Tdate = num2date(time, Tunit, Tcalendar)    # At least 2 arguments are required."
   ]
  },
  {
   "cell_type": "code",
   "execution_count": 22,
   "metadata": {},
   "outputs": [
    {
     "name": "stdout",
     "output_type": "stream",
     "text": [
      "1850-01-16 12:00:00 <class 'datetime.datetime'>\n"
     ]
    }
   ],
   "source": [
    "print(Tdate[0], type(Tdate[0]))"
   ]
  },
  {
   "cell_type": "markdown",
   "metadata": {},
   "source": [
    "This ```datetime``` type variables can dump out year, month and day with methods called ```year```, ```month``` and ```day```, respectively.  \n",
    "To see the full list of methods and attributes, try ```dir(Tdate[0])```."
   ]
  },
  {
   "cell_type": "code",
   "execution_count": 28,
   "metadata": {},
   "outputs": [
    {
     "data": {
      "text/plain": [
       "[<matplotlib.lines.Line2D at 0x121b39d30>]"
      ]
     },
     "execution_count": 28,
     "metadata": {},
     "output_type": "execute_result"
    }
   ],
   "source": [
    "f = plt.figure(2)\n",
    "plt.plot(Tdate, mTanom)"
   ]
  },
  {
   "cell_type": "markdown",
   "metadata": {},
   "source": [
    "#### 2. Change the x-axis\n",
    "We can directly modify the x-axis using the axis object."
   ]
  },
  {
   "cell_type": "code",
   "execution_count": 32,
   "metadata": {},
   "outputs": [
    {
     "data": {
      "text/plain": [
       "[<matplotlib.lines.Line2D at 0x121d915c0>]"
      ]
     },
     "execution_count": 32,
     "metadata": {},
     "output_type": "execute_result"
    }
   ],
   "source": [
    "f = plt.figure(3)\n",
    "plt.plot(time, mTanom)"
   ]
  },
  {
   "cell_type": "code",
   "execution_count": 34,
   "metadata": {},
   "outputs": [
    {
     "data": {
      "text/plain": [
       "Text(0.5, 1.0, 'Time series of T anomaly, HadCRUT4')"
      ]
     },
     "execution_count": 34,
     "metadata": {},
     "output_type": "execute_result"
    }
   ],
   "source": [
    "# new x axis \n",
    "ax = plt.gca()\n",
    "ix = np.arange(0,nt,240)\n",
    "ixlabel = time[ix]/365 + 1850\n",
    "ax.set_xticks(time[ix])\n",
    "ax.set_xticklabels(ixlabel.astype(int))\n",
    "ax.set_xlabel('year')\n",
    "ax.set_ylabel('T anomaly (degC)')\n",
    "ax.set_title('Time series of T anomaly, HadCRUT4')"
   ]
  },
  {
   "cell_type": "markdown",
   "metadata": {},
   "source": [
    "### More than one lines in one plot\n",
    "At this time, let's separate the temperature trend into global, northern hemisphere and southern hemisphere."
   ]
  },
  {
   "cell_type": "code",
   "execution_count": 37,
   "metadata": {
    "collapsed": true
   },
   "outputs": [],
   "source": [
    "# T in the northern hemisphere\n",
    "inorth = np.where(lat>0)\n",
    "T_nh = np.mean(np.mean(Tanom[:, inorth[0], :], axis=2), axis=1)"
   ]
  },
  {
   "cell_type": "code",
   "execution_count": 38,
   "metadata": {
    "collapsed": true
   },
   "outputs": [],
   "source": [
    "# T in the southern hemisphere\n",
    "isouth = np.where(lat<0)\n",
    "T_sh = np.mean(np.mean(Tanom[:, isouth[0], :], axis=2), axis=1)"
   ]
  },
  {
   "cell_type": "code",
   "execution_count": 39,
   "metadata": {},
   "outputs": [
    {
     "data": {
      "text/plain": [
       "(2025,)"
      ]
     },
     "execution_count": 39,
     "metadata": {},
     "output_type": "execute_result"
    }
   ],
   "source": [
    "T_nh.shape"
   ]
  },
  {
   "cell_type": "code",
   "execution_count": 40,
   "metadata": {
    "collapsed": true
   },
   "outputs": [],
   "source": [
    "plt.subplots?"
   ]
  },
  {
   "cell_type": "code",
   "execution_count": 53,
   "metadata": {
    "collapsed": true
   },
   "outputs": [],
   "source": [
    "f, ax = plt.subplots(1, 1, figsize=(12,6))"
   ]
  },
  {
   "cell_type": "code",
   "execution_count": 54,
   "metadata": {},
   "outputs": [
    {
     "data": {
      "text/plain": [
       "[<matplotlib.lines.Line2D at 0x11e01f358>]"
      ]
     },
     "execution_count": 54,
     "metadata": {},
     "output_type": "execute_result"
    }
   ],
   "source": [
    "ax.plot(Tdate, mTanom)\n",
    "ax.plot(Tdate, T_nh)\n",
    "ax.plot(Tdate, T_sh)"
   ]
  },
  {
   "cell_type": "code",
   "execution_count": 55,
   "metadata": {},
   "outputs": [
    {
     "data": {
      "text/plain": [
       "Text(0.5, 1.0, 'Time series of T anomaly, HadCRUT4')"
      ]
     },
     "execution_count": 55,
     "metadata": {},
     "output_type": "execute_result"
    }
   ],
   "source": [
    "ax.set_xlabel('year')\n",
    "ax.set_ylabel('T anomaly (degC)')\n",
    "ax.set_title('Time series of T anomaly, HadCRUT4')"
   ]
  },
  {
   "cell_type": "markdown",
   "metadata": {},
   "source": [
    "You can plot every lines with a single command"
   ]
  },
  {
   "cell_type": "code",
   "execution_count": 56,
   "metadata": {},
   "outputs": [
    {
     "data": {
      "text/plain": [
       "Text(0.5, 1.0, 'Time series of T anomaly, HadCRUT4')"
      ]
     },
     "execution_count": 56,
     "metadata": {},
     "output_type": "execute_result"
    }
   ],
   "source": [
    "f, ax = plt.subplots(1, 1, figsize=(12,6))\n",
    "ax.plot(Tdate, mTanom, Tdate, T_nh, Tdate, T_sh)\n",
    "ax.set_xlabel('year')\n",
    "ax.set_ylabel('T anomaly (degC)')\n",
    "ax.set_title('Time series of T anomaly, HadCRUT4')"
   ]
  },
  {
   "cell_type": "markdown",
   "metadata": {},
   "source": [
    "As you can see, you can keep adding lines on top of others. But, it is already hard to tell which one is which.  \n",
    "Let's plot each line differently.  \n",
    "You can get the full list of markers from [here](https://matplotlib.org/api/markers_api.html), and line-style from [here](https://matplotlib.org/gallery/lines_bars_and_markers/line_styles_reference.html)."
   ]
  },
  {
   "cell_type": "code",
   "execution_count": 58,
   "metadata": {},
   "outputs": [
    {
     "data": {
      "text/plain": [
       "Text(0.5, 1.0, 'Time series of T anomaly, HadCRUT4')"
      ]
     },
     "execution_count": 58,
     "metadata": {},
     "output_type": "execute_result"
    }
   ],
   "source": [
    "f, ax = plt.subplots(1, 1, figsize=(12,6))\n",
    "# ax.plot(Tdate, mTanom, '.', Tdate, T_nh, '^', Tdate, T_sh, '*')\n",
    "ax.plot(Tdate, mTanom, '-', Tdate, T_nh, ':', Tdate, T_sh, '--')\n",
    "ax.set_xlabel('year')\n",
    "ax.set_ylabel('T anomaly (degC)')\n",
    "ax.set_title('Time series of T anomaly, HadCRUT4')"
   ]
  },
  {
   "cell_type": "markdown",
   "metadata": {},
   "source": [
    "Or we need to label them."
   ]
  },
  {
   "cell_type": "code",
   "execution_count": 59,
   "metadata": {},
   "outputs": [
    {
     "data": {
      "text/plain": [
       "Text(0.5, 1.0, 'Time series of T anomaly, HadCRUT4')"
      ]
     },
     "execution_count": 59,
     "metadata": {},
     "output_type": "execute_result"
    }
   ],
   "source": [
    "f, ax = plt.subplots(1, 1, figsize=(12,6))\n",
    "ax.plot(Tdate, mTanom, label = 'global')\n",
    "ax.plot(Tdate, T_nh, label = 'NH')\n",
    "ax.plot(Tdate, T_sh, label = 'SH')\n",
    "ax.legend()\n",
    "ax.set_xlabel('year')\n",
    "ax.set_ylabel('T anomaly (degC)')\n",
    "ax.set_title('Time series of T anomaly, HadCRUT4')"
   ]
  },
  {
   "cell_type": "code",
   "execution_count": 60,
   "metadata": {},
   "outputs": [
    {
     "data": {
      "text/plain": [
       "Text(0.5, 1.0, 'Time series of T anomaly, HadCRUT4')"
      ]
     },
     "execution_count": 60,
     "metadata": {},
     "output_type": "execute_result"
    }
   ],
   "source": [
    "f, ax = plt.subplots(1, 1, figsize=(12,6))\n",
    "ax.plot(Tdate, mTanom, label = 'global')\n",
    "ax.plot(Tdate, T_nh, label = 'NH')\n",
    "ax.plot(Tdate, T_sh, label = 'SH')\n",
    "ax.legend()\n",
    "ax.set_xlabel('year')\n",
    "ax.set_ylabel('T anomaly (degC)')\n",
    "ax.set_title('Time series of T anomaly, HadCRUT4')"
   ]
  },
  {
   "cell_type": "markdown",
   "metadata": {},
   "source": [
    "It may be helpful to read if the lines are thinner than this and in different colors.\n",
    "(The full list of available colors can be found [here](https://matplotlib.org/examples/color/named_colors.html))"
   ]
  },
  {
   "cell_type": "code",
   "execution_count": 61,
   "metadata": {},
   "outputs": [
    {
     "data": {
      "text/plain": [
       "Text(0.5, 1.0, 'Time series of T anomaly, HadCRUT4')"
      ]
     },
     "execution_count": 61,
     "metadata": {},
     "output_type": "execute_result"
    }
   ],
   "source": [
    "f, ax = plt.subplots(1, 1, figsize=(12,6))\n",
    "l1 = ax.plot(Tdate, mTanom, color='black', linewidth=0.5, label='global')\n",
    "l2 = ax.plot(Tdate, T_nh, color='dodgerblue', linewidth=0.5, label='NH')\n",
    "l3 = ax.plot(Tdate, T_sh, color=np.array([189, 48, 57])/255, linewidth=0.5, label = 'SH')\n",
    "# l3 = ax.plot(Tdate, T_sh, color='#BD3039', label = 'SH')\n",
    "ax.legend()\n",
    "ax.set_xlabel('year')\n",
    "ax.set_ylabel('T anomaly (degC)')\n",
    "ax.set_title('Time series of T anomaly, HadCRUT4')"
   ]
  },
  {
   "cell_type": "markdown",
   "metadata": {},
   "source": [
    "It is still not easy to see all the lines,"
   ]
  },
  {
   "cell_type": "code",
   "execution_count": 68,
   "metadata": {},
   "outputs": [
    {
     "data": {
      "text/plain": [
       "Text(0.5, 1.0, 'Time series of T anomaly, HadCRUT4')"
      ]
     },
     "execution_count": 68,
     "metadata": {},
     "output_type": "execute_result"
    }
   ],
   "source": [
    "intv = 6    # every 6 month\n",
    "f, ax = plt.subplots(1, 1, figsize=(12,6))\n",
    "ax.plot(Tdate[::intv], mTanom[::intv], color='black', label='global')\n",
    "ax.plot(Tdate[::intv], T_nh[::intv], color='dodgerblue', label='NH')\n",
    "ax.plot(Tdate[::intv], T_sh[::intv], color=np.array([189, 48, 57])/255, label = 'SH')\n",
    "# l3 = ax.plot(Tdate, T_sh, color='#BD3039', label = 'SH')\n",
    "ax.legend()\n",
    "ax.set_xlabel('year')\n",
    "ax.set_ylabel('T anomaly (degC)')\n",
    "ax.set_title('Time series of T anomaly, HadCRUT4')"
   ]
  },
  {
   "cell_type": "code",
   "execution_count": 69,
   "metadata": {},
   "outputs": [
    {
     "name": "stderr",
     "output_type": "stream",
     "text": [
      "/Users/hajsong/miniconda2/envs/py36/lib/python3.6/site-packages/matplotlib/cbook/__init__.py:424: MatplotlibDeprecationWarning: \n",
      "Passing one of 'on', 'true', 'off', 'false' as a boolean is deprecated; use an actual boolean (True/False) instead.\n",
      "  warn_deprecated(\"2.2\", \"Passing one of 'on', 'true', 'off', 'false' as a \"\n"
     ]
    }
   ],
   "source": [
    "ax.grid('on')"
   ]
  },
  {
   "cell_type": "markdown",
   "metadata": {},
   "source": [
    "I want to make this plot more charming."
   ]
  },
  {
   "cell_type": "code",
   "execution_count": 70,
   "metadata": {
    "collapsed": true
   },
   "outputs": [],
   "source": [
    "# Remove the plot frame lines.    \n",
    "f, ax = plt.subplots(1, 1, figsize=(12,6))    \n",
    "ax.spines[\"top\"].set_visible(False)    \n",
    "ax.spines[\"bottom\"].set_visible(False)    \n",
    "ax.spines[\"right\"].set_visible(False)    \n",
    "ax.spines[\"left\"].set_visible(False)    "
   ]
  },
  {
   "cell_type": "code",
   "execution_count": 71,
   "metadata": {
    "collapsed": true
   },
   "outputs": [],
   "source": [
    "# Ensure that the axis ticks only show up on the bottom and left of the plot.    \n",
    "# Ticks on the right and top of the plot are generally unnecessary chartjunk.    \n",
    "ax.get_xaxis().tick_bottom()    \n",
    "ax.get_yaxis().tick_left()   "
   ]
  },
  {
   "cell_type": "code",
   "execution_count": 72,
   "metadata": {},
   "outputs": [
    {
     "data": {
      "text/plain": [
       "(-2, 2)"
      ]
     },
     "execution_count": 72,
     "metadata": {},
     "output_type": "execute_result"
    }
   ],
   "source": [
    "# Limit the range of the plot to only where the data is.    \n",
    "# Avoid unnecessary whitespace.    \n",
    "ax.set_ylim(-2, 2)    "
   ]
  },
  {
   "cell_type": "code",
   "execution_count": 73,
   "metadata": {
    "collapsed": true
   },
   "outputs": [],
   "source": [
    "# Provide tick lines across the plot to help your viewers trace along    \n",
    "# the axis ticks. Make sure that the lines are light and small so they    \n",
    "# don't obscure the primary data lines.    \n",
    "intv = 6    # every 6 month\n",
    "for y in np.arange(-2, 2.1, 0.5):    \n",
    "    ax.plot(Tdate[::intv], [y] * len(Tdate[::intv]), \"--\", lw=0.5, color=\"black\", alpha=0.3)    "
   ]
  },
  {
   "cell_type": "code",
   "execution_count": 74,
   "metadata": {},
   "outputs": [
    {
     "name": "stderr",
     "output_type": "stream",
     "text": [
      "/Users/hajsong/miniconda2/envs/py36/lib/python3.6/site-packages/matplotlib/cbook/__init__.py:424: MatplotlibDeprecationWarning: \n",
      "Passing one of 'on', 'true', 'off', 'false' as a boolean is deprecated; use an actual boolean (True/False) instead.\n",
      "  warn_deprecated(\"2.2\", \"Passing one of 'on', 'true', 'off', 'false' as a \"\n"
     ]
    }
   ],
   "source": [
    "# Remove the tick marks; they are unnecessary with the tick lines we just plotted.    \n",
    "ax.tick_params(axis=\"both\", which=\"both\", bottom=\"off\", top=\"off\", \n",
    "               labelbottom=\"on\", left=\"off\", right=\"off\", labelleft=\"on\",\n",
    "               labelsize = 12)    "
   ]
  },
  {
   "cell_type": "code",
   "execution_count": 75,
   "metadata": {},
   "outputs": [
    {
     "data": {
      "text/plain": [
       "<matplotlib.legend.Legend at 0x11d5c5780>"
      ]
     },
     "execution_count": 75,
     "metadata": {},
     "output_type": "execute_result"
    }
   ],
   "source": [
    "ax.plot(Tdate[::intv], mTanom[::intv], color='black', label='global')\n",
    "ax.plot(Tdate[::intv], T_nh[::intv], color='dodgerblue', label='NH')\n",
    "ax.plot(Tdate[::intv], T_sh[::intv], color=np.array([189, 48, 57])/255, label = 'SH')\n",
    "ax.legend()"
   ]
  },
  {
   "cell_type": "code",
   "execution_count": null,
   "metadata": {
    "collapsed": true
   },
   "outputs": [],
   "source": []
  }
 ],
 "metadata": {
  "kernelspec": {
   "display_name": "Python 3",
   "language": "python",
   "name": "python3"
  },
  "language_info": {
   "codemirror_mode": {
    "name": "ipython",
    "version": 3
   },
   "file_extension": ".py",
   "mimetype": "text/x-python",
   "name": "python",
   "nbconvert_exporter": "python",
   "pygments_lexer": "ipython3",
   "version": "3.6.3"
  }
 },
 "nbformat": 4,
 "nbformat_minor": 2
}
