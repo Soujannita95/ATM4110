{
 "cells": [
  {
   "cell_type": "markdown",
   "metadata": {},
   "source": [
    "# Plotting exercise"
   ]
  },
  {
   "cell_type": "markdown",
   "metadata": {},
   "source": [
    "We will practice what we learned about plotting data on a 2D space.  \n",
    "First, let's get the data."
   ]
  },
  {
   "cell_type": "code",
   "execution_count": 31,
   "metadata": {},
   "outputs": [],
   "source": [
    "import numpy as np\n",
    "import numpy.ma as ma\n",
    "import matplotlib.pyplot as plt\n",
    "from mpl_toolkits.basemap import Basemap\n",
    "import cartopy.crs as ccrs\n",
    "%matplotlib inline"
   ]
  },
  {
   "cell_type": "code",
   "execution_count": 32,
   "metadata": {},
   "outputs": [],
   "source": [
    "data = np.load('exercisedata.npz')\n",
    "LON = data['LON']\n",
    "LAT = data['LAT']      \n",
    "u10 = data['u10']      # zonal velocity at 10m (m/s)\n",
    "v10 = data['v10']      # meridional velocity at 10m (m/s)\n",
    "T2m = data['T2']       # temperature at 2m (K)\n",
    "LH = data['LH']        # latent heat (W/m2)\n",
    "Psfc = data['Psfc']    # surface pressure (Pa)\n",
    "w = data['w']          # vertical velocity (m/s)\n",
    "date = data['date']\n",
    "mask = data['mask']    # land mask\n",
    "mask = ma.masked_where(mask==1, mask)\n",
    "mask += 1"
   ]
  },
  {
   "cell_type": "markdown",
   "metadata": {},
   "source": [
    "## 1. Plot surface pressure\n",
    "Using the ```imshow``` function"
   ]
  },
  {
   "cell_type": "markdown",
   "metadata": {},
   "source": [
    "## 2. Plot temperature at 2m\n",
    "Using the ```pcolormesh``` function"
   ]
  },
  {
   "cell_type": "markdown",
   "metadata": {},
   "source": [
    "## 3. Plot latent heat\n",
    "Using the ```contour``` function"
   ]
  },
  {
   "cell_type": "markdown",
   "metadata": {},
   "source": [
    "## 4. Plot wind and its speed"
   ]
  },
  {
   "cell_type": "markdown",
   "metadata": {},
   "source": [
    "### 4-1 Using arrows with colors"
   ]
  },
  {
   "cell_type": "markdown",
   "metadata": {},
   "source": [
    "### 4-2 Using arrows with the same size on the background of wind speed"
   ]
  },
  {
   "cell_type": "markdown",
   "metadata": {},
   "source": [
    "## 5. Find the hurricane track"
   ]
  }
 ],
 "metadata": {
  "kernelspec": {
   "display_name": "Python 3",
   "language": "python",
   "name": "python3"
  },
  "language_info": {
   "codemirror_mode": {
    "name": "ipython",
    "version": 3
   },
   "file_extension": ".py",
   "mimetype": "text/x-python",
   "name": "python",
   "nbconvert_exporter": "python",
   "pygments_lexer": "ipython3",
   "version": "3.7.0"
  }
 },
 "nbformat": 4,
 "nbformat_minor": 2
}
