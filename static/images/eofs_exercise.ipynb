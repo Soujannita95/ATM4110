{
 "cells": [
  {
   "cell_type": "code",
   "execution_count": 130,
   "metadata": {},
   "outputs": [],
   "source": [
    "import numpy as np\n",
    "import scipy.io as sio\n",
    "import matplotlib.pyplot as plt\n",
    "import cartopy.crs as ccrs\n",
    "%matplotlib qt"
   ]
  },
  {
   "cell_type": "code",
   "execution_count": 131,
   "metadata": {},
   "outputs": [],
   "source": [
    "makeplot = 0"
   ]
  },
  {
   "cell_type": "code",
   "execution_count": 132,
   "metadata": {},
   "outputs": [],
   "source": [
    "# Read the sea surface temperature data\n",
    "data1 = sio.loadmat('cac.mat', squeeze_me=True, struct_as_record=False)\n",
    "cac = data1['cac']\n",
    "\n",
    "lat = cac.lat\n",
    "lon = cac.lon\n",
    "sst = cac.sst\n",
    "land = cac.land\n",
    "year = cac.year\n",
    "\n",
    "nlats, nlons, ntimes = sst.shape"
   ]
  },
  {
   "cell_type": "code",
   "execution_count": 133,
   "metadata": {},
   "outputs": [],
   "source": [
    "# This data include both land and sea temperatures.\n",
    "# Since we don't expect temperature variability to necessarily be\n",
    "# strongly correlated to the adjacent sea temperature, we should\n",
    "# exclude land values from the data set. This can be done by setting\n",
    "# all land values to zero.\n",
    "mask = np.ones([nlats,nlons]).flatten()\n",
    "mask[land-1] = 0\n",
    "mask = mask.reshape(nlons, nlats).T\n",
    "mask = np.tile(mask, [ntimes, 1, 1])\n",
    "mask = mask.transpose(1, 2, 0)\n",
    "sst = sst*mask"
   ]
  },
  {
   "cell_type": "code",
   "execution_count": 134,
   "metadata": {},
   "outputs": [],
   "source": [
    "if makeplot==1:\n",
    "    plt.figure(1, figsize=(10,4))\n",
    "    for i in range(ntimes):\n",
    "        plt.clf()\n",
    "        ax = plt.axes(projection=ccrs.Geostationary(central_longitude=lon.mean(), satellite_height=35785831))\n",
    "        ax.pcolormesh(lon, lat, sst[:, :, i], vmin=10, vmax=30, cmap='rainbow', transform=ccrs.PlateCarree())\n",
    "        ax.coastlines(resolution='110m')\n",
    "        mon = int(np.remainder(year[i],1)*12 + 0.5)\n",
    "        plt.title('SST, year='+str(int(year[i]))+', mon='+str(mon))\n",
    "        plt.pause(0.1)"
   ]
  },
  {
   "cell_type": "code",
   "execution_count": 135,
   "metadata": {},
   "outputs": [],
   "source": [
    "if makeplot==1:\n",
    "    # Plot a longitude-time Hovmuller diagram\n",
    "    iy = 7\n",
    "    f, ax = plt.subplots(1, 1, figsize=(10,6))\n",
    "    X, Y = np.meshgrid(lon, year)\n",
    "    ax.pcolormesh(X, Y, sst[iy, :, :].T, vmin=20, vmax=30, cmap='rainbow')\n",
    "    ax.set_title('SST along the latitude = '+str(lat[iy])+' deg')"
   ]
  },
  {
   "cell_type": "code",
   "execution_count": 136,
   "metadata": {},
   "outputs": [],
   "source": [
    "# Construct Data matrix\n",
    "D = sst.reshape([nlons*nlats, ntimes])"
   ]
  },
  {
   "cell_type": "code",
   "execution_count": 137,
   "metadata": {},
   "outputs": [
    {
     "data": {
      "text/plain": [
       "(504, 264)"
      ]
     },
     "execution_count": 137,
     "metadata": {},
     "output_type": "execute_result"
    }
   ],
   "source": [
    "D.shape"
   ]
  },
  {
   "cell_type": "code",
   "execution_count": 138,
   "metadata": {},
   "outputs": [
    {
     "name": "stdout",
     "output_type": "stream",
     "text": [
      "Removing a long term mean\n"
     ]
    }
   ],
   "source": [
    "rmseason = False\n",
    "if rmseason is True :\n",
    "    print('Removing seasonal variability')\n",
    "    Eann = np.block([[np.ones(ntimes)], [np.cos(2*np.pi*year)], [np.sin(2*np.pi*year)]]).T\n",
    "    Dann = np.zeros(D.shape)\n",
    "    for m in range(D.shape[0]):\n",
    "        d = D[m,:]\n",
    "        coeff = np.linalg.inv(Eann.T @ Eann) @ Eann.T @ d\n",
    "        dfit = Eann @ coeff\n",
    "        Dann[m, :] = dfit\n",
    "    D = D - Dann\n",
    "    sstmean = Dann.copy()\n",
    "else:\n",
    "    print('Removing a long term mean')\n",
    "    sstmean = np.tile(np.mean(D, axis=1), [ntimes, 1]).T\n",
    "    D = D - sstmean\n"
   ]
  },
  {
   "cell_type": "code",
   "execution_count": 139,
   "metadata": {},
   "outputs": [
    {
     "data": {
      "text/plain": [
       "[<matplotlib.lines.Line2D at 0xb2b7d4eb8>]"
      ]
     },
     "execution_count": 139,
     "metadata": {},
     "output_type": "execute_result"
    }
   ],
   "source": [
    "Dorig = sst.reshape([nlons*nlats, ntimes])\n",
    "plt.plot(Dorig[100,:])\n",
    "plt.plot(Dann[100,:], 'r')"
   ]
  },
  {
   "cell_type": "code",
   "execution_count": 140,
   "metadata": {},
   "outputs": [],
   "source": [
    "gam, E = np.linalg.eigh(D @ D.T)"
   ]
  },
  {
   "cell_type": "code",
   "execution_count": 141,
   "metadata": {},
   "outputs": [],
   "source": [
    "gam, E = np.linalg.eigh(D @ D.T)\n",
    "gam = np.flip(gam)\n",
    "E = np.flip(E, axis=1)\n",
    "percent_var = 100*gam/np.sum(gam)"
   ]
  },
  {
   "cell_type": "code",
   "execution_count": 142,
   "metadata": {},
   "outputs": [],
   "source": [
    "# time series of each mode\n",
    "A = E.T @ D"
   ]
  },
  {
   "cell_type": "markdown",
   "metadata": {},
   "source": [
    "## Evaluate the result!"
   ]
  },
  {
   "cell_type": "code",
   "execution_count": 143,
   "metadata": {},
   "outputs": [],
   "source": [
    "# plot EOFs pattern\n",
    "f = plt.figure(figsize=(10, 8))\n",
    "for i in [1, 2]:\n",
    "    ax = plt.subplot(2, 1, i, projection=ccrs.Geostationary(central_longitude=lon.mean(), satellite_height=35785831))\n",
    "    ax.coastlines(resolution='110m')\n",
    "    c = ax.contourf(lon, lat, E[:,i-1].reshape(nlats, nlons), np.arange(-.15, .16, .01), cmap='RdBu_r', extend='both',\n",
    "                    transform=ccrs.PlateCarree())\n",
    "    plt.colorbar(c)"
   ]
  },
  {
   "cell_type": "code",
   "execution_count": 144,
   "metadata": {},
   "outputs": [
    {
     "name": "stdout",
     "output_type": "stream",
     "text": [
      "[70.11181751 14.26629333  3.96613255  1.68679182  1.15460896]\n"
     ]
    }
   ],
   "source": [
    "print(percent_var[:5])"
   ]
  },
  {
   "cell_type": "code",
   "execution_count": 145,
   "metadata": {},
   "outputs": [
    {
     "data": {
      "text/plain": [
       "<matplotlib.legend.Legend at 0xb2d1de940>"
      ]
     },
     "execution_count": 145,
     "metadata": {},
     "output_type": "execute_result"
    }
   ],
   "source": [
    "# plot EOF amplitude time series\n",
    "f, ax = plt.subplots(2, 1, figsize=(10, 8))\n",
    "xmin, xmax = 1980, 2005\n",
    "ymin, ymax = -30, 30\n",
    "plt.style.use('fivethirtyeight')\n",
    "for i in range(2):\n",
    "    ax[i].plot(year, A[i,:], color='black', linewidth=2, label='SST data')\n",
    "    ax[i].set_xlim([xmin, xmax])\n",
    "    ax[i].set_ylim([ymin, ymax])\n",
    "    ax[i].set_title('The amplitude time series of mode '+str(i+1))\n",
    "ax[0].set_xticklabels([])\n",
    "\n",
    "data2 = sio.loadmat('soi.mat', squeeze_me=True, struct_as_record=False)\n",
    "soi = data2['soi']\n",
    "soit = data2['soit']\n",
    "ax[0].plot(soit/365.25, soi*np.std(A[0,:]), 'r', linewidth=1, label='SOI')\n",
    "ax[0].legend()"
   ]
  },
  {
   "cell_type": "markdown",
   "metadata": {},
   "source": [
    "#### Estimate the data with a few modes."
   ]
  },
  {
   "cell_type": "code",
   "execution_count": 147,
   "metadata": {},
   "outputs": [
    {
     "data": {
      "text/plain": [
       "<matplotlib.colorbar.Colorbar at 0xb24963f98>"
      ]
     },
     "execution_count": 147,
     "metadata": {},
     "output_type": "execute_result"
    }
   ],
   "source": [
    "it = 10\n",
    "mon = int(np.remainder(year[it],1)*12 + 0.5)\n",
    "K = 2    # number of the modes to keep\n",
    "f = plt.figure(figsize=(10, 8))\n",
    "ax = plt.subplot(2, 1, 1, projection=ccrs.Geostationary(central_longitude=lon.mean(), satellite_height=35785831))\n",
    "ax.coastlines(resolution='110m')\n",
    "c = ax.contourf(lon, lat, sst[:,:,it]*mask[:,:,it], np.arange(10, 31, 1), cmap='rainbow', extend='both',\n",
    "                transform=ccrs.PlateCarree())\n",
    "ax.set_title('SST, year='+str(int(year[it]))+', mon='+str(mon))\n",
    "plt.colorbar(c)\n",
    "\n",
    "sstdata = np.zeros((nlats, nlons, ntimes))\n",
    "# for i in range(K):\n",
    "#     sst0 = E[:,:i] @ A[:i, :]\n",
    "#     sst0 = sst0.reshape(nlats, nlons, ntimes)\n",
    "#     sstdata += sst0\n",
    "sst0 = E[:,:K] @ A[:K, :]\n",
    "sst0 = sst0 + sstmean\n",
    "sstdata = sst0.reshape(nlats, nlons, ntimes)\n",
    "\n",
    "ax = plt.subplot(2, 1, 2, projection=ccrs.Geostationary(central_longitude=lon.mean(), satellite_height=35785831))\n",
    "ax.coastlines(resolution='110m')\n",
    "c = ax.contourf(lon, lat, sstdata[:,:,it]*mask[:,:,it], np.arange(10, 31, 1), cmap='rainbow', extend='both',\n",
    "                transform=ccrs.PlateCarree())\n",
    "ax.set_title('Estimated SST using '+str(K)+' modes')\n",
    "plt.colorbar(c)"
   ]
  },
  {
   "cell_type": "code",
   "execution_count": null,
   "metadata": {},
   "outputs": [],
   "source": []
  }
 ],
 "metadata": {
  "kernelspec": {
   "display_name": "Python 3",
   "language": "python",
   "name": "python3"
  },
  "language_info": {
   "codemirror_mode": {
    "name": "ipython",
    "version": 3
   },
   "file_extension": ".py",
   "mimetype": "text/x-python",
   "name": "python",
   "nbconvert_exporter": "python",
   "pygments_lexer": "ipython3",
   "version": "3.7.0"
  }
 },
 "nbformat": 4,
 "nbformat_minor": 2
}
